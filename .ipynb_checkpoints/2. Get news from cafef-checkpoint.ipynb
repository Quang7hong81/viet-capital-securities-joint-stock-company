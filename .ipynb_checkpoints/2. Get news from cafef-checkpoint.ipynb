{
 "cells": [
  {
   "cell_type": "code",
   "execution_count": 28,
   "metadata": {},
   "outputs": [],
   "source": [
    "\n",
    "import pandas as pd\n",
    "import numpy as np\n",
    "\n",
    "#internet package\n",
    "\n",
    "import urllib3\n",
    "from bs4 import BeautifulSoup  \n",
    "http = urllib3.PoolManager()\n",
    "\n",
    "#functional package\n",
    "import logging\n",
    "import requests\n",
    "from newspaper import Article\n",
    "from newspaper import fulltext\n",
    "from tqdm import tqdm\n",
    "from tqdm import tnrange, tqdm_notebook\n",
    "\n",
    "logging.basicConfig(filename=\"crawl.log\",level=logging.ERROR)"
   ]
  },
  {
   "cell_type": "code",
   "execution_count": 3,
   "metadata": {
    "scrolled": true
   },
   "outputs": [],
   "source": [
    "def get_new_data(symbol):\n",
    "    r = http.request('GET', 'http://s.cafef.vn/Ajax/Events_RelatedNews_New.aspx?symbol=' + str(symbol) + '&floorID=0&configID=0&PageIndex=1&PageSize=10000&Type=2')\n",
    "    soup = BeautifulSoup(r.data, \"html.parser\")\n",
    "    data = soup.find(\"ul\", {\"class\": \"News_Title_Link\"})\n",
    "    raw = data.find_all('li')\n",
    "    data_dicts = []\n",
    "    for row in raw:\n",
    "        row_dict = {}\n",
    "        row_dict['newsdate'] = row.span.text\n",
    "        row_dict['title'] = row.a.text\n",
    "        row_dict['url']  = \"http://s.cafef.vn/\" + str(row.a['href'])\n",
    "        row_dict['ticker'] = str(symbol)\n",
    "        data_dicts.append(row_dict)\n",
    "    return data_dicts"
   ]
  },
  {
   "cell_type": "code",
   "execution_count": 3,
   "metadata": {},
   "outputs": [],
   "source": [
    "# pd.DataFrame(get_new_data(\"VNM\")).head()"
   ]
  },
  {
   "cell_type": "code",
   "execution_count": 4,
   "metadata": {},
   "outputs": [],
   "source": [
    "public_company_list = pd.read_csv(\"public_company_list.csv\", skiprows = 1, usecols = range(1,5))\n",
    "public_company_list = public_company_list[public_company_list[\"SÀN\"] != \"OTC\"]\n",
    "public_company_list = public_company_list.dropna()"
   ]
  },
  {
   "cell_type": "code",
   "execution_count": 5,
   "metadata": {},
   "outputs": [
    {
     "data": {
      "text/plain": [
       "array(['A32', 'AAA', 'AAM', ..., 'YRC', 'YSC', 'YTC'], dtype=object)"
      ]
     },
     "execution_count": 5,
     "metadata": {},
     "output_type": "execute_result"
    }
   ],
   "source": [
    "public_company_list['MÃ CK'].values"
   ]
  },
  {
   "cell_type": "code",
   "execution_count": 6,
   "metadata": {},
   "outputs": [
    {
     "name": "stderr",
     "output_type": "stream",
     "text": [
      "100%|██████████| 1711/1711 [26:19<00:00,  2.64it/s] \n"
     ]
    }
   ],
   "source": [
    "all_datas = pd.DataFrame()\n",
    "for ticker in tqdm(public_company_list['MÃ CK'].values):\n",
    "\n",
    "    tickernews = pd.DataFrame(get_new_data(ticker))\n",
    "    all_datas = pd.concat([all_datas, tickernews], ignore_index=True)\n",
    "\n",
    "# to export data only \n",
    "# all_datas.to_csv(\"news_url.csv\")\n",
    "    "
   ]
  },
  {
   "cell_type": "code",
   "execution_count": 13,
   "metadata": {},
   "outputs": [
    {
     "data": {
      "text/plain": [
       "<bound method DataFrame.info of Empty DataFrame\n",
       "Columns: []\n",
       "Index: []>"
      ]
     },
     "execution_count": 13,
     "metadata": {},
     "output_type": "execute_result"
    }
   ],
   "source": [
    "all_datas.info"
   ]
  },
  {
   "cell_type": "code",
   "execution_count": 8,
   "metadata": {},
   "outputs": [],
   "source": [
    "news_url = pd.read_csv(\"news_url.csv\", usecols = range(1,5))"
   ]
  },
  {
   "cell_type": "code",
   "execution_count": 9,
   "metadata": {},
   "outputs": [
    {
     "data": {
      "text/plain": [
       "array(['http://s.cafef.vn//a32-314278/a32-ong-nguyen-the-anh-pho-chu-tich-hdqt-da-mua-2800-cp.chn',\n",
       "       'http://s.cafef.vn//a32-312903/a32-ong-nguyen-the-anh-pho-chu-tich-hdqt-dang-ky-mua-2800-cp.chn',\n",
       "       'http://s.cafef.vn//a32-309371/diem-danh-nhung-doanh-nghiep-chot-quyen-nhan-co-tuc-bang-tien-bang-co-phieu-va-co-phieu-thuong-tuan-nay.chn',\n",
       "       'http://s.cafef.vn//a32-308683/lich-chot-quyen-nhan-co-tuc-bang-tien-cua-8-doanh-nghiep.chn',\n",
       "       'http://s.cafef.vn//a32-308769/a32-662019-ngay-gdkhq-tra-co-tuc-bang-tien-mat-700dcp.chn'],\n",
       "      dtype=object)"
      ]
     },
     "execution_count": 9,
     "metadata": {},
     "output_type": "execute_result"
    }
   ],
   "source": [
    "news_url.head()['url'].values"
   ]
  },
  {
   "cell_type": "code",
   "execution_count": 10,
   "metadata": {},
   "outputs": [
    {
     "data": {
      "text/html": [
       "<div>\n",
       "<style scoped>\n",
       "    .dataframe tbody tr th:only-of-type {\n",
       "        vertical-align: middle;\n",
       "    }\n",
       "\n",
       "    .dataframe tbody tr th {\n",
       "        vertical-align: top;\n",
       "    }\n",
       "\n",
       "    .dataframe thead th {\n",
       "        text-align: right;\n",
       "    }\n",
       "</style>\n",
       "<table border=\"1\" class=\"dataframe\">\n",
       "  <thead>\n",
       "    <tr style=\"text-align: right;\">\n",
       "      <th></th>\n",
       "      <th>newsdate</th>\n",
       "      <th>ticker</th>\n",
       "      <th>title</th>\n",
       "      <th>url</th>\n",
       "    </tr>\n",
       "  </thead>\n",
       "  <tbody>\n",
       "    <tr>\n",
       "      <th>0</th>\n",
       "      <td>10/07/2019 09:34</td>\n",
       "      <td>A32</td>\n",
       "      <td>A32: Ông Nguyễn Thế Anh - Phó Chủ tịch HĐQT đã...</td>\n",
       "      <td>http://s.cafef.vn//a32-314278/a32-ong-nguyen-t...</td>\n",
       "    </tr>\n",
       "    <tr>\n",
       "      <th>1</th>\n",
       "      <td>01/07/2019 14:21</td>\n",
       "      <td>A32</td>\n",
       "      <td>A32: Ông Nguyễn Thế Anh - Phó Chủ tịch HĐQT đă...</td>\n",
       "      <td>http://s.cafef.vn//a32-312903/a32-ong-nguyen-t...</td>\n",
       "    </tr>\n",
       "    <tr>\n",
       "      <th>2</th>\n",
       "      <td>03/06/2019 08:55</td>\n",
       "      <td>A32</td>\n",
       "      <td>Điểm danh những doanh nghiệp chốt quyền nhận c...</td>\n",
       "      <td>http://s.cafef.vn//a32-309371/diem-danh-nhung-...</td>\n",
       "    </tr>\n",
       "    <tr>\n",
       "      <th>3</th>\n",
       "      <td>28/05/2019 13:46</td>\n",
       "      <td>A32</td>\n",
       "      <td>Lịch chốt quyền nhận cổ tức bằng tiền của 8 do...</td>\n",
       "      <td>http://s.cafef.vn//a32-308683/lich-chot-quyen-...</td>\n",
       "    </tr>\n",
       "    <tr>\n",
       "      <th>4</th>\n",
       "      <td>28/05/2019 13:27</td>\n",
       "      <td>A32</td>\n",
       "      <td>A32: 6.6.2019, ngày GDKHQ trả cổ tức bằng tiền...</td>\n",
       "      <td>http://s.cafef.vn//a32-308769/a32-662019-ngay-...</td>\n",
       "    </tr>\n",
       "  </tbody>\n",
       "</table>\n",
       "</div>"
      ],
      "text/plain": [
       "           newsdate ticker                                              title  \\\n",
       "0  10/07/2019 09:34    A32  A32: Ông Nguyễn Thế Anh - Phó Chủ tịch HĐQT đã...   \n",
       "1  01/07/2019 14:21    A32  A32: Ông Nguyễn Thế Anh - Phó Chủ tịch HĐQT đă...   \n",
       "2  03/06/2019 08:55    A32  Điểm danh những doanh nghiệp chốt quyền nhận c...   \n",
       "3  28/05/2019 13:46    A32  Lịch chốt quyền nhận cổ tức bằng tiền của 8 do...   \n",
       "4  28/05/2019 13:27    A32  A32: 6.6.2019, ngày GDKHQ trả cổ tức bằng tiền...   \n",
       "\n",
       "                                                 url  \n",
       "0  http://s.cafef.vn//a32-314278/a32-ong-nguyen-t...  \n",
       "1  http://s.cafef.vn//a32-312903/a32-ong-nguyen-t...  \n",
       "2  http://s.cafef.vn//a32-309371/diem-danh-nhung-...  \n",
       "3  http://s.cafef.vn//a32-308683/lich-chot-quyen-...  \n",
       "4  http://s.cafef.vn//a32-308769/a32-662019-ngay-...  "
      ]
     },
     "execution_count": 10,
     "metadata": {},
     "output_type": "execute_result"
    }
   ],
   "source": [
    "news_url.head()"
   ]
  },
  {
   "cell_type": "code",
   "execution_count": 7,
   "metadata": {},
   "outputs": [
    {
     "name": "stdout",
     "output_type": "stream",
     "text": [
      "<class 'pandas.core.frame.DataFrame'>\n",
      "RangeIndex: 330851 entries, 0 to 330850\n",
      "Data columns (total 4 columns):\n",
      "newsdate    330851 non-null object\n",
      "ticker      330851 non-null object\n",
      "title       330849 non-null object\n",
      "url         330851 non-null object\n",
      "dtypes: object(4)\n",
      "memory usage: 10.1+ MB\n"
     ]
    }
   ],
   "source": [
    "news_url.info()"
   ]
  },
  {
   "cell_type": "code",
   "execution_count": 50,
   "metadata": {},
   "outputs": [],
   "source": [
    "url = \"http://s.cafef.vn//a32-308769/a32-662019-ngay-gdkhq-tra-co-tuc-bang-tien-mat-700dcp.chn\""
   ]
  },
  {
   "cell_type": "code",
   "execution_count": 35,
   "metadata": {},
   "outputs": [],
   "source": [
    "\n",
    "def get_details_from_url(df_to_get):\n",
    "    data_dicts = []\n",
    "    for newsdate, url in tqdm_notebook(zip(df_to_get['newsdate'].values, df_to_get['url'].values)):\n",
    "        row_dict = {}\n",
    "        try:\n",
    "            article = Article(url, language='vi')\n",
    "            article.download()\n",
    "            article.parse()\n",
    "            article.nlp()\n",
    "            row_dict['newsdate'] = newsdate\n",
    "            row_dict['summary'] = article.summary\n",
    "            row_dict['keywords'] = article.keywords\n",
    "            data_dicts.append(row_dict)\n",
    "        except Exception as e:\n",
    "#             logging.error()\n",
    "            continue\n",
    "#         print(data_dicts)\n",
    "    return data_dicts\n",
    "         "
   ]
  },
  {
   "cell_type": "code",
   "execution_count": 34,
   "metadata": {},
   "outputs": [
    {
     "data": {
      "application/vnd.jupyter.widget-view+json": {
       "model_id": "08730fb7975b4c4695b07547e6971b9d",
       "version_major": 2,
       "version_minor": 0
      },
      "text/plain": [
       "HBox(children=(IntProgress(value=1, bar_style='info', max=1), HTML(value='')))"
      ]
     },
     "metadata": {},
     "output_type": "display_data"
    },
    {
     "name": "stderr",
     "output_type": "stream",
     "text": [
      "DEBUG:urllib3.connectionpool:Starting new HTTP connection (1): s.cafef.vn\n",
      "DEBUG:urllib3.connectionpool:http://s.cafef.vn:80 \"GET //a32-314278/a32-ong-nguyen-the-anh-pho-chu-tich-hdqt-da-mua-2800-cp.chn HTTP/1.1\" 200 17380\n",
      "DEBUG:urllib3.connectionpool:Starting new HTTP connection (1): s.cafef.vn\n",
      "DEBUG:urllib3.connectionpool:http://s.cafef.vn:80 \"GET //a32-312903/a32-ong-nguyen-the-anh-pho-chu-tich-hdqt-dang-ky-mua-2800-cp.chn HTTP/1.1\" 200 17413\n",
      "DEBUG:urllib3.connectionpool:Starting new HTTP connection (1): s.cafef.vn\n",
      "DEBUG:urllib3.connectionpool:http://s.cafef.vn:80 \"GET //a32-309371/diem-danh-nhung-doanh-nghiep-chot-quyen-nhan-co-tuc-bang-tien-bang-co-phieu-va-co-phieu-thuong-tuan-nay.chn HTTP/1.1\" 200 21041\n",
      "DEBUG:urllib3.connectionpool:Starting new HTTP connection (1): s.cafef.vn\n",
      "DEBUG:urllib3.connectionpool:http://s.cafef.vn:80 \"GET //a32-308683/lich-chot-quyen-nhan-co-tuc-bang-tien-cua-8-doanh-nghiep.chn HTTP/1.1\" 200 18093\n",
      "DEBUG:urllib3.connectionpool:Starting new HTTP connection (1): s.cafef.vn\n",
      "DEBUG:urllib3.connectionpool:http://s.cafef.vn:80 \"GET //a32-308769/a32-662019-ngay-gdkhq-tra-co-tuc-bang-tien-mat-700dcp.chn HTTP/1.1\" 200 17474\n",
      "DEBUG:urllib3.connectionpool:Starting new HTTP connection (1): s.cafef.vn\n",
      "DEBUG:urllib3.connectionpool:http://s.cafef.vn:80 \"GET //a32-307974/a32-thong-bao-ve-viec-chi-co-tuc-dot-2-nam-2018.chn HTTP/1.1\" 200 17101\n",
      "DEBUG:urllib3.connectionpool:Starting new HTTP connection (1): s.cafef.vn\n",
      "DEBUG:urllib3.connectionpool:http://s.cafef.vn:80 \"GET //a32-306053/a32-nghi-quyet-dai-hoi-dong-co-dong-thuong-nien-nam-2019.chn HTTP/1.1\" 200 17132\n",
      "DEBUG:urllib3.connectionpool:Starting new HTTP connection (1): s.cafef.vn\n",
      "DEBUG:urllib3.connectionpool:http://s.cafef.vn:80 \"GET //a32-302704/a32-tai-lieu-hop-dai-hoi-dong-co-dong.chn HTTP/1.1\" 200 16958\n",
      "DEBUG:urllib3.connectionpool:Starting new HTTP connection (1): s.cafef.vn\n",
      "DEBUG:urllib3.connectionpool:http://s.cafef.vn:80 \"GET //a32-302221/a32-tai-lieu-hop-dai-hoi-dong-co-dong.chn HTTP/1.1\" 200 16918\n",
      "DEBUG:urllib3.connectionpool:Starting new HTTP connection (1): s.cafef.vn\n",
      "DEBUG:urllib3.connectionpool:http://s.cafef.vn:80 \"GET //a32-300001/a32-1642019-ngay-gdkhq-tham-du-dai-hoi-dong-co-dong-thuong-nien-nam-2019.chn HTTP/1.1\" 200 17135\n",
      "DEBUG:urllib3.connectionpool:Starting new HTTP connection (1): s.cafef.vn\n",
      "DEBUG:urllib3.connectionpool:http://s.cafef.vn:80 \"GET //a32-299629/a32-nghi-quyet-hdqt-ve-viec-trieu-tap-dai-hoi-dong-co-dong-thuong-nien-nam-2019.chn HTTP/1.1\" 200 16840\n"
     ]
    },
    {
     "ename": "KeyboardInterrupt",
     "evalue": "",
     "output_type": "error",
     "traceback": [
      "\u001b[0;31m---------------------------------------------------------------------------\u001b[0m",
      "\u001b[0;31mKeyboardInterrupt\u001b[0m                         Traceback (most recent call last)",
      "\u001b[0;32m<ipython-input-34-8fbe945f3f3a>\u001b[0m in \u001b[0;36m<module>\u001b[0;34m()\u001b[0m\n\u001b[0;32m----> 1\u001b[0;31m \u001b[0mnews_detail\u001b[0m \u001b[0;34m=\u001b[0m \u001b[0mpd\u001b[0m\u001b[0;34m.\u001b[0m\u001b[0mDataFrame\u001b[0m\u001b[0;34m(\u001b[0m\u001b[0mget_details_from_url\u001b[0m\u001b[0;34m(\u001b[0m\u001b[0mnews_url\u001b[0m\u001b[0;34m)\u001b[0m\u001b[0;34m)\u001b[0m\u001b[0;34m\u001b[0m\u001b[0m\n\u001b[0m",
      "\u001b[0;32m<ipython-input-33-ad9f24a76965>\u001b[0m in \u001b[0;36mget_details_from_url\u001b[0;34m(df_to_get)\u001b[0m\n\u001b[1;32m      7\u001b[0m             \u001b[0marticle\u001b[0m \u001b[0;34m=\u001b[0m \u001b[0mArticle\u001b[0m\u001b[0;34m(\u001b[0m\u001b[0murl\u001b[0m\u001b[0;34m,\u001b[0m \u001b[0mlanguage\u001b[0m\u001b[0;34m=\u001b[0m\u001b[0;34m'vi'\u001b[0m\u001b[0;34m)\u001b[0m\u001b[0;34m\u001b[0m\u001b[0m\n\u001b[1;32m      8\u001b[0m             \u001b[0marticle\u001b[0m\u001b[0;34m.\u001b[0m\u001b[0mdownload\u001b[0m\u001b[0;34m(\u001b[0m\u001b[0;34m)\u001b[0m\u001b[0;34m\u001b[0m\u001b[0m\n\u001b[0;32m----> 9\u001b[0;31m             \u001b[0marticle\u001b[0m\u001b[0;34m.\u001b[0m\u001b[0mparse\u001b[0m\u001b[0;34m(\u001b[0m\u001b[0;34m)\u001b[0m\u001b[0;34m\u001b[0m\u001b[0m\n\u001b[0m\u001b[1;32m     10\u001b[0m             \u001b[0marticle\u001b[0m\u001b[0;34m.\u001b[0m\u001b[0mnlp\u001b[0m\u001b[0;34m(\u001b[0m\u001b[0;34m)\u001b[0m\u001b[0;34m\u001b[0m\u001b[0m\n\u001b[1;32m     11\u001b[0m             \u001b[0mrow_dict\u001b[0m\u001b[0;34m[\u001b[0m\u001b[0;34m'newsdate'\u001b[0m\u001b[0;34m]\u001b[0m \u001b[0;34m=\u001b[0m \u001b[0mnewsdate\u001b[0m\u001b[0;34m\u001b[0m\u001b[0m\n",
      "\u001b[0;32m~/anaconda3/lib/python3.6/site-packages/newspaper/article.py\u001b[0m in \u001b[0;36mparse\u001b[0;34m(self)\u001b[0m\n\u001b[1;32m    251\u001b[0m             \u001b[0mself\u001b[0m\u001b[0;34m.\u001b[0m\u001b[0mset_movies\u001b[0m\u001b[0;34m(\u001b[0m\u001b[0mvideo_extractor\u001b[0m\u001b[0;34m.\u001b[0m\u001b[0mget_videos\u001b[0m\u001b[0;34m(\u001b[0m\u001b[0;34m)\u001b[0m\u001b[0;34m)\u001b[0m\u001b[0;34m\u001b[0m\u001b[0m\n\u001b[1;32m    252\u001b[0m \u001b[0;34m\u001b[0m\u001b[0m\n\u001b[0;32m--> 253\u001b[0;31m             \u001b[0mself\u001b[0m\u001b[0;34m.\u001b[0m\u001b[0mtop_node\u001b[0m \u001b[0;34m=\u001b[0m \u001b[0mself\u001b[0m\u001b[0;34m.\u001b[0m\u001b[0mextractor\u001b[0m\u001b[0;34m.\u001b[0m\u001b[0mpost_cleanup\u001b[0m\u001b[0;34m(\u001b[0m\u001b[0mself\u001b[0m\u001b[0;34m.\u001b[0m\u001b[0mtop_node\u001b[0m\u001b[0;34m)\u001b[0m\u001b[0;34m\u001b[0m\u001b[0m\n\u001b[0m\u001b[1;32m    254\u001b[0m             \u001b[0mself\u001b[0m\u001b[0;34m.\u001b[0m\u001b[0mclean_top_node\u001b[0m \u001b[0;34m=\u001b[0m \u001b[0mcopy\u001b[0m\u001b[0;34m.\u001b[0m\u001b[0mdeepcopy\u001b[0m\u001b[0;34m(\u001b[0m\u001b[0mself\u001b[0m\u001b[0;34m.\u001b[0m\u001b[0mtop_node\u001b[0m\u001b[0;34m)\u001b[0m\u001b[0;34m\u001b[0m\u001b[0m\n\u001b[1;32m    255\u001b[0m \u001b[0;34m\u001b[0m\u001b[0m\n",
      "\u001b[0;32m~/anaconda3/lib/python3.6/site-packages/newspaper/extractors.py\u001b[0m in \u001b[0;36mpost_cleanup\u001b[0;34m(self, top_node)\u001b[0m\n\u001b[1;32m   1038\u001b[0m         \u001b[0;32mor\u001b[0m \u001b[0mparas\u001b[0m \u001b[0;32mwith\u001b[0m \u001b[0mno\u001b[0m \u001b[0mgusto\u001b[0m\u001b[0;34m;\u001b[0m \u001b[0madd\u001b[0m \u001b[0madjacent\u001b[0m \u001b[0mnodes\u001b[0m \u001b[0mwhich\u001b[0m \u001b[0mlook\u001b[0m \u001b[0mcontenty\u001b[0m\u001b[0;34m\u001b[0m\u001b[0m\n\u001b[1;32m   1039\u001b[0m         \"\"\"\n\u001b[0;32m-> 1040\u001b[0;31m         \u001b[0mnode\u001b[0m \u001b[0;34m=\u001b[0m \u001b[0mself\u001b[0m\u001b[0;34m.\u001b[0m\u001b[0madd_siblings\u001b[0m\u001b[0;34m(\u001b[0m\u001b[0mtop_node\u001b[0m\u001b[0;34m)\u001b[0m\u001b[0;34m\u001b[0m\u001b[0m\n\u001b[0m\u001b[1;32m   1041\u001b[0m         \u001b[0;32mfor\u001b[0m \u001b[0me\u001b[0m \u001b[0;32min\u001b[0m \u001b[0mself\u001b[0m\u001b[0;34m.\u001b[0m\u001b[0mparser\u001b[0m\u001b[0;34m.\u001b[0m\u001b[0mgetChildren\u001b[0m\u001b[0;34m(\u001b[0m\u001b[0mnode\u001b[0m\u001b[0;34m)\u001b[0m\u001b[0;34m:\u001b[0m\u001b[0;34m\u001b[0m\u001b[0m\n\u001b[1;32m   1042\u001b[0m             \u001b[0me_tag\u001b[0m \u001b[0;34m=\u001b[0m \u001b[0mself\u001b[0m\u001b[0;34m.\u001b[0m\u001b[0mparser\u001b[0m\u001b[0;34m.\u001b[0m\u001b[0mgetTag\u001b[0m\u001b[0;34m(\u001b[0m\u001b[0me\u001b[0m\u001b[0;34m)\u001b[0m\u001b[0;34m\u001b[0m\u001b[0m\n",
      "\u001b[0;32m~/anaconda3/lib/python3.6/site-packages/newspaper/extractors.py\u001b[0m in \u001b[0;36madd_siblings\u001b[0;34m(self, top_node)\u001b[0m\n\u001b[1;32m    867\u001b[0m \u001b[0;34m\u001b[0m\u001b[0m\n\u001b[1;32m    868\u001b[0m     \u001b[0;32mdef\u001b[0m \u001b[0madd_siblings\u001b[0m\u001b[0;34m(\u001b[0m\u001b[0mself\u001b[0m\u001b[0;34m,\u001b[0m \u001b[0mtop_node\u001b[0m\u001b[0;34m)\u001b[0m\u001b[0;34m:\u001b[0m\u001b[0;34m\u001b[0m\u001b[0m\n\u001b[0;32m--> 869\u001b[0;31m         \u001b[0mbaseline_score_siblings_para\u001b[0m \u001b[0;34m=\u001b[0m \u001b[0mself\u001b[0m\u001b[0;34m.\u001b[0m\u001b[0mget_siblings_score\u001b[0m\u001b[0;34m(\u001b[0m\u001b[0mtop_node\u001b[0m\u001b[0;34m)\u001b[0m\u001b[0;34m\u001b[0m\u001b[0m\n\u001b[0m\u001b[1;32m    870\u001b[0m         \u001b[0mresults\u001b[0m \u001b[0;34m=\u001b[0m \u001b[0mself\u001b[0m\u001b[0;34m.\u001b[0m\u001b[0mwalk_siblings\u001b[0m\u001b[0;34m(\u001b[0m\u001b[0mtop_node\u001b[0m\u001b[0;34m)\u001b[0m\u001b[0;34m\u001b[0m\u001b[0m\n\u001b[1;32m    871\u001b[0m         \u001b[0;32mfor\u001b[0m \u001b[0mcurrent_node\u001b[0m \u001b[0;32min\u001b[0m \u001b[0mresults\u001b[0m\u001b[0;34m:\u001b[0m\u001b[0;34m\u001b[0m\u001b[0m\n",
      "\u001b[0;32m~/anaconda3/lib/python3.6/site-packages/newspaper/extractors.py\u001b[0m in \u001b[0;36mget_siblings_score\u001b[0;34m(self, top_node)\u001b[0m\n\u001b[1;32m    924\u001b[0m         \u001b[0mparagraphs_number\u001b[0m \u001b[0;34m=\u001b[0m \u001b[0;36m0\u001b[0m\u001b[0;34m\u001b[0m\u001b[0m\n\u001b[1;32m    925\u001b[0m         \u001b[0mparagraphs_score\u001b[0m \u001b[0;34m=\u001b[0m \u001b[0;36m0\u001b[0m\u001b[0;34m\u001b[0m\u001b[0m\n\u001b[0;32m--> 926\u001b[0;31m         \u001b[0mnodes_to_check\u001b[0m \u001b[0;34m=\u001b[0m \u001b[0mself\u001b[0m\u001b[0;34m.\u001b[0m\u001b[0mparser\u001b[0m\u001b[0;34m.\u001b[0m\u001b[0mgetElementsByTag\u001b[0m\u001b[0;34m(\u001b[0m\u001b[0mtop_node\u001b[0m\u001b[0;34m,\u001b[0m \u001b[0mtag\u001b[0m\u001b[0;34m=\u001b[0m\u001b[0;34m'p'\u001b[0m\u001b[0;34m)\u001b[0m\u001b[0;34m\u001b[0m\u001b[0m\n\u001b[0m\u001b[1;32m    927\u001b[0m \u001b[0;34m\u001b[0m\u001b[0m\n\u001b[1;32m    928\u001b[0m         \u001b[0;32mfor\u001b[0m \u001b[0mnode\u001b[0m \u001b[0;32min\u001b[0m \u001b[0mnodes_to_check\u001b[0m\u001b[0;34m:\u001b[0m\u001b[0;34m\u001b[0m\u001b[0m\n",
      "\u001b[0;32m~/anaconda3/lib/python3.6/site-packages/newspaper/parsers.py\u001b[0m in \u001b[0;36mgetElementsByTag\u001b[0;34m(cls, node, tag, attr, value, childs, use_regex)\u001b[0m\n\u001b[1;32m    121\u001b[0m                 \u001b[0mtrans\u001b[0m \u001b[0;34m=\u001b[0m \u001b[0;34m'translate(@%s, \"%s\", \"%s\")'\u001b[0m \u001b[0;34m%\u001b[0m \u001b[0;34m(\u001b[0m\u001b[0mattr\u001b[0m\u001b[0;34m,\u001b[0m \u001b[0mstring\u001b[0m\u001b[0;34m.\u001b[0m\u001b[0mascii_uppercase\u001b[0m\u001b[0;34m,\u001b[0m \u001b[0mstring\u001b[0m\u001b[0;34m.\u001b[0m\u001b[0mascii_lowercase\u001b[0m\u001b[0;34m)\u001b[0m\u001b[0;34m\u001b[0m\u001b[0m\n\u001b[1;32m    122\u001b[0m                 \u001b[0mselector\u001b[0m \u001b[0;34m=\u001b[0m \u001b[0;34m'%s[contains(%s, \"%s\")]'\u001b[0m \u001b[0;34m%\u001b[0m \u001b[0;34m(\u001b[0m\u001b[0mselector\u001b[0m\u001b[0;34m,\u001b[0m \u001b[0mtrans\u001b[0m\u001b[0;34m,\u001b[0m \u001b[0mvalue\u001b[0m\u001b[0;34m.\u001b[0m\u001b[0mlower\u001b[0m\u001b[0;34m(\u001b[0m\u001b[0;34m)\u001b[0m\u001b[0;34m)\u001b[0m\u001b[0;34m\u001b[0m\u001b[0m\n\u001b[0;32m--> 123\u001b[0;31m         \u001b[0melems\u001b[0m \u001b[0;34m=\u001b[0m \u001b[0mnode\u001b[0m\u001b[0;34m.\u001b[0m\u001b[0mxpath\u001b[0m\u001b[0;34m(\u001b[0m\u001b[0mselector\u001b[0m\u001b[0;34m,\u001b[0m \u001b[0mnamespaces\u001b[0m\u001b[0;34m=\u001b[0m\u001b[0mNS\u001b[0m\u001b[0;34m)\u001b[0m\u001b[0;34m\u001b[0m\u001b[0m\n\u001b[0m\u001b[1;32m    124\u001b[0m         \u001b[0;31m# remove the root node\u001b[0m\u001b[0;34m\u001b[0m\u001b[0;34m\u001b[0m\u001b[0m\n\u001b[1;32m    125\u001b[0m         \u001b[0;31m# if we have a selection tag\u001b[0m\u001b[0;34m\u001b[0m\u001b[0;34m\u001b[0m\u001b[0m\n",
      "\u001b[0;32msrc/lxml/etree.pyx\u001b[0m in \u001b[0;36mlxml.etree._Element.xpath\u001b[0;34m()\u001b[0m\n",
      "\u001b[0;32msrc/lxml/xpath.pxi\u001b[0m in \u001b[0;36mlxml.etree.XPathElementEvaluator.__call__\u001b[0;34m()\u001b[0m\n",
      "\u001b[0;32msrc/lxml/nsclasses.pxi\u001b[0m in \u001b[0;36mlxml.etree.FunctionNamespace\u001b[0;34m()\u001b[0m\n",
      "\u001b[0;32msrc/lxml/extensions.pxi\u001b[0m in \u001b[0;36mlxml.etree._unwrapXPathObject\u001b[0;34m()\u001b[0m\n",
      "\u001b[0;32msrc/lxml/extensions.pxi\u001b[0m in \u001b[0;36mlxml.etree._createNodeSetResult\u001b[0;34m()\u001b[0m\n",
      "\u001b[0;32msrc/lxml/extensions.pxi\u001b[0m in \u001b[0;36mlxml.etree._unpackNodeSetEntry\u001b[0;34m()\u001b[0m\n",
      "\u001b[0;32msrc/lxml/proxy.pxi\u001b[0m in \u001b[0;36mlxml.etree._fakeDocElementFactory\u001b[0;34m()\u001b[0m\n",
      "\u001b[0;32msrc/lxml/etree.pyx\u001b[0m in \u001b[0;36mlxml.etree._elementFactory\u001b[0;34m()\u001b[0m\n",
      "\u001b[0;32msrc/lxml/classlookup.pxi\u001b[0m in \u001b[0;36mlxml.etree._parser_class_lookup\u001b[0;34m()\u001b[0m\n",
      "\u001b[0;32msrc/lxml/classlookup.pxi\u001b[0m in \u001b[0;36mlxml.etree._custom_class_lookup\u001b[0;34m()\u001b[0m\n",
      "\u001b[0;32m~/anaconda3/lib/python3.6/site-packages/lxml/html/__init__.py\u001b[0m in \u001b[0;36mlookup\u001b[0;34m(self, node_type, document, namespace, name)\u001b[0m\n\u001b[1;32m    734\u001b[0m         \u001b[0mself\u001b[0m\u001b[0;34m.\u001b[0m\u001b[0m_element_classes\u001b[0m \u001b[0;34m=\u001b[0m \u001b[0mclasses\u001b[0m\u001b[0;34m\u001b[0m\u001b[0m\n\u001b[1;32m    735\u001b[0m \u001b[0;34m\u001b[0m\u001b[0m\n\u001b[0;32m--> 736\u001b[0;31m     \u001b[0;32mdef\u001b[0m \u001b[0mlookup\u001b[0m\u001b[0;34m(\u001b[0m\u001b[0mself\u001b[0m\u001b[0;34m,\u001b[0m \u001b[0mnode_type\u001b[0m\u001b[0;34m,\u001b[0m \u001b[0mdocument\u001b[0m\u001b[0;34m,\u001b[0m \u001b[0mnamespace\u001b[0m\u001b[0;34m,\u001b[0m \u001b[0mname\u001b[0m\u001b[0;34m)\u001b[0m\u001b[0;34m:\u001b[0m\u001b[0;34m\u001b[0m\u001b[0m\n\u001b[0m\u001b[1;32m    737\u001b[0m         \u001b[0;32mif\u001b[0m \u001b[0mnode_type\u001b[0m \u001b[0;34m==\u001b[0m \u001b[0;34m'element'\u001b[0m\u001b[0;34m:\u001b[0m\u001b[0;34m\u001b[0m\u001b[0m\n\u001b[1;32m    738\u001b[0m             \u001b[0;32mreturn\u001b[0m \u001b[0mself\u001b[0m\u001b[0;34m.\u001b[0m\u001b[0m_element_classes\u001b[0m\u001b[0;34m.\u001b[0m\u001b[0mget\u001b[0m\u001b[0;34m(\u001b[0m\u001b[0mname\u001b[0m\u001b[0;34m.\u001b[0m\u001b[0mlower\u001b[0m\u001b[0;34m(\u001b[0m\u001b[0;34m)\u001b[0m\u001b[0;34m,\u001b[0m \u001b[0mHtmlElement\u001b[0m\u001b[0;34m)\u001b[0m\u001b[0;34m\u001b[0m\u001b[0m\n",
      "\u001b[0;31mKeyboardInterrupt\u001b[0m: "
     ]
    }
   ],
   "source": [
    "news_detail = pd.DataFrame(get_details_from_url(news_url))"
   ]
  },
  {
   "cell_type": "markdown",
   "metadata": {},
   "source": [
    "Get all the news with full text and summarize and keywords"
   ]
  },
  {
   "cell_type": "code",
   "execution_count": 15,
   "metadata": {},
   "outputs": [
    {
     "data": {
      "application/vnd.jupyter.widget-view+json": {
       "model_id": "d1451e878afd4c1c8078312d919ea057",
       "version_major": 2,
       "version_minor": 0
      },
      "text/plain": [
       "HBox(children=(IntProgress(value=1, bar_style='info', max=1), HTML(value='')))"
      ]
     },
     "metadata": {},
     "output_type": "display_data"
    },
    {
     "ename": "ArticleException",
     "evalue": "Article `download()` failed with HTTPConnectionPool(host='s.cafef.vn', port=80): Read timed out. (read timeout=7) on URL http://s.cafef.vn//bmp-87165/chu-tich-nhua-binh-minh-chung-toi-luon-coi-nhua-tien-phong-la-ong-anh.chn",
     "output_type": "error",
     "traceback": [
      "\u001b[0;31m---------------------------------------------------------------------------\u001b[0m",
      "\u001b[0;31mArticleException\u001b[0m                          Traceback (most recent call last)",
      "\u001b[0;32m<ipython-input-15-2b7077e77e44>\u001b[0m in \u001b[0;36m<module>\u001b[0;34m()\u001b[0m\n\u001b[1;32m      1\u001b[0m \u001b[0;32mfrom\u001b[0m \u001b[0mmultiprocessing\u001b[0m\u001b[0;34m.\u001b[0m\u001b[0mdummy\u001b[0m \u001b[0;32mimport\u001b[0m \u001b[0mPool\u001b[0m \u001b[0;32mas\u001b[0m \u001b[0mThreadPool\u001b[0m\u001b[0;34m\u001b[0m\u001b[0m\n\u001b[1;32m      2\u001b[0m \u001b[0mpool\u001b[0m \u001b[0;34m=\u001b[0m \u001b[0mThreadPool\u001b[0m\u001b[0;34m(\u001b[0m\u001b[0;36m8\u001b[0m\u001b[0;34m)\u001b[0m\u001b[0;34m\u001b[0m\u001b[0m\n\u001b[0;32m----> 3\u001b[0;31m \u001b[0mresults\u001b[0m \u001b[0;34m=\u001b[0m \u001b[0mpool\u001b[0m\u001b[0;34m.\u001b[0m\u001b[0mmap\u001b[0m\u001b[0;34m(\u001b[0m\u001b[0mget_details_from_url\u001b[0m\u001b[0;34m(\u001b[0m\u001b[0mnews_url\u001b[0m\u001b[0;34m)\u001b[0m\u001b[0;34m)\u001b[0m\u001b[0;34m\u001b[0m\u001b[0m\n\u001b[0m\u001b[1;32m      4\u001b[0m \u001b[0mpool\u001b[0m\u001b[0;34m.\u001b[0m\u001b[0mclose\u001b[0m\u001b[0;34m(\u001b[0m\u001b[0;34m)\u001b[0m\u001b[0;34m\u001b[0m\u001b[0m\n\u001b[1;32m      5\u001b[0m \u001b[0mpool\u001b[0m\u001b[0;34m.\u001b[0m\u001b[0mjoin\u001b[0m\u001b[0;34m(\u001b[0m\u001b[0;34m)\u001b[0m\u001b[0;34m\u001b[0m\u001b[0m\n",
      "\u001b[0;32m<ipython-input-13-e2b912112fed>\u001b[0m in \u001b[0;36mget_details_from_url\u001b[0;34m(df_to_get)\u001b[0m\n\u001b[1;32m      5\u001b[0m         \u001b[0marticle\u001b[0m \u001b[0;34m=\u001b[0m \u001b[0mArticle\u001b[0m\u001b[0;34m(\u001b[0m\u001b[0murl\u001b[0m\u001b[0;34m,\u001b[0m \u001b[0mlanguage\u001b[0m\u001b[0;34m=\u001b[0m\u001b[0;34m'vi'\u001b[0m\u001b[0;34m)\u001b[0m\u001b[0;34m\u001b[0m\u001b[0m\n\u001b[1;32m      6\u001b[0m         \u001b[0marticle\u001b[0m\u001b[0;34m.\u001b[0m\u001b[0mdownload\u001b[0m\u001b[0;34m(\u001b[0m\u001b[0;34m)\u001b[0m\u001b[0;34m\u001b[0m\u001b[0m\n\u001b[0;32m----> 7\u001b[0;31m         \u001b[0marticle\u001b[0m\u001b[0;34m.\u001b[0m\u001b[0mparse\u001b[0m\u001b[0;34m(\u001b[0m\u001b[0;34m)\u001b[0m\u001b[0;34m\u001b[0m\u001b[0m\n\u001b[0m\u001b[1;32m      8\u001b[0m         \u001b[0marticle\u001b[0m\u001b[0;34m.\u001b[0m\u001b[0mnlp\u001b[0m\u001b[0;34m(\u001b[0m\u001b[0;34m)\u001b[0m\u001b[0;34m\u001b[0m\u001b[0m\n\u001b[1;32m      9\u001b[0m         \u001b[0mrow_dict\u001b[0m\u001b[0;34m[\u001b[0m\u001b[0;34m'newsdate'\u001b[0m\u001b[0;34m]\u001b[0m \u001b[0;34m=\u001b[0m \u001b[0mnewsdate\u001b[0m\u001b[0;34m\u001b[0m\u001b[0m\n",
      "\u001b[0;32m~/anaconda3/lib/python3.6/site-packages/newspaper/article.py\u001b[0m in \u001b[0;36mparse\u001b[0;34m(self)\u001b[0m\n\u001b[1;32m    189\u001b[0m \u001b[0;34m\u001b[0m\u001b[0m\n\u001b[1;32m    190\u001b[0m     \u001b[0;32mdef\u001b[0m \u001b[0mparse\u001b[0m\u001b[0;34m(\u001b[0m\u001b[0mself\u001b[0m\u001b[0;34m)\u001b[0m\u001b[0;34m:\u001b[0m\u001b[0;34m\u001b[0m\u001b[0m\n\u001b[0;32m--> 191\u001b[0;31m         \u001b[0mself\u001b[0m\u001b[0;34m.\u001b[0m\u001b[0mthrow_if_not_downloaded_verbose\u001b[0m\u001b[0;34m(\u001b[0m\u001b[0;34m)\u001b[0m\u001b[0;34m\u001b[0m\u001b[0m\n\u001b[0m\u001b[1;32m    192\u001b[0m \u001b[0;34m\u001b[0m\u001b[0m\n\u001b[1;32m    193\u001b[0m         \u001b[0mself\u001b[0m\u001b[0;34m.\u001b[0m\u001b[0mdoc\u001b[0m \u001b[0;34m=\u001b[0m \u001b[0mself\u001b[0m\u001b[0;34m.\u001b[0m\u001b[0mconfig\u001b[0m\u001b[0;34m.\u001b[0m\u001b[0mget_parser\u001b[0m\u001b[0;34m(\u001b[0m\u001b[0;34m)\u001b[0m\u001b[0;34m.\u001b[0m\u001b[0mfromstring\u001b[0m\u001b[0;34m(\u001b[0m\u001b[0mself\u001b[0m\u001b[0;34m.\u001b[0m\u001b[0mhtml\u001b[0m\u001b[0;34m)\u001b[0m\u001b[0;34m\u001b[0m\u001b[0m\n",
      "\u001b[0;32m~/anaconda3/lib/python3.6/site-packages/newspaper/article.py\u001b[0m in \u001b[0;36mthrow_if_not_downloaded_verbose\u001b[0;34m(self)\u001b[0m\n\u001b[1;32m    530\u001b[0m         \u001b[0;32melif\u001b[0m \u001b[0mself\u001b[0m\u001b[0;34m.\u001b[0m\u001b[0mdownload_state\u001b[0m \u001b[0;34m==\u001b[0m \u001b[0mArticleDownloadState\u001b[0m\u001b[0;34m.\u001b[0m\u001b[0mFAILED_RESPONSE\u001b[0m\u001b[0;34m:\u001b[0m\u001b[0;34m\u001b[0m\u001b[0m\n\u001b[1;32m    531\u001b[0m             raise ArticleException('Article `download()` failed with %s on URL %s' %\n\u001b[0;32m--> 532\u001b[0;31m                   (self.download_exception_msg, self.url))\n\u001b[0m\u001b[1;32m    533\u001b[0m \u001b[0;34m\u001b[0m\u001b[0m\n\u001b[1;32m    534\u001b[0m     \u001b[0;32mdef\u001b[0m \u001b[0mthrow_if_not_parsed_verbose\u001b[0m\u001b[0;34m(\u001b[0m\u001b[0mself\u001b[0m\u001b[0;34m)\u001b[0m\u001b[0;34m:\u001b[0m\u001b[0;34m\u001b[0m\u001b[0m\n",
      "\u001b[0;31mArticleException\u001b[0m: Article `download()` failed with HTTPConnectionPool(host='s.cafef.vn', port=80): Read timed out. (read timeout=7) on URL http://s.cafef.vn//bmp-87165/chu-tich-nhua-binh-minh-chung-toi-luon-coi-nhua-tien-phong-la-ong-anh.chn"
     ]
    }
   ],
   "source": [
    "from multiprocessing.dummy import Pool as ThreadPool \n",
    "pool = ThreadPool(8)\n",
    "results = pool.map(get_details_from_url(news_url))\n",
    "pool.close() \n",
    "pool.join()"
   ]
  },
  {
   "cell_type": "code",
   "execution_count": null,
   "metadata": {},
   "outputs": [],
   "source": []
  }
 ],
 "metadata": {
  "kernelspec": {
   "display_name": "Python 3",
   "language": "python",
   "name": "python3"
  },
  "language_info": {
   "codemirror_mode": {
    "name": "ipython",
    "version": 3
   },
   "file_extension": ".py",
   "mimetype": "text/x-python",
   "name": "python",
   "nbconvert_exporter": "python",
   "pygments_lexer": "ipython3",
   "version": "3.6.5"
  }
 },
 "nbformat": 4,
 "nbformat_minor": 2
}
